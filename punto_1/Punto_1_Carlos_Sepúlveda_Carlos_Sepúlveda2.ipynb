{
  "nbformat": 4,
  "nbformat_minor": 0,
  "metadata": {
    "colab": {
      "provenance": []
    },
    "kernelspec": {
      "name": "python3",
      "display_name": "Python 3"
    },
    "language_info": {
      "name": "python"
    }
  },
  "cells": [
    {
      "cell_type": "markdown",
      "source": [
        "1.\tSimula cualquier matriz rectangular aleatoria A.\n",
        "\n",
        "•\t¿Cuál es el rango y la traza de A?\n",
        "•\t¿Cuál es el determinante de A?\n",
        "•\t¿Puedes invertir A? ¿Cómo?\n",
        "•\t¿Cómo están relacionados los autovalores y autovectores de A'A y AA'? ¿Qué diferencias interesantes puedes notar entre ambos?\n",
        "•\tVer [https://sites.cs.ucsb.edu/~mturk/Papers/jcn.pdf]\n"
      ],
      "metadata": {
        "id": "4m_ALZCQgJkS"
      }
    },
    {
      "cell_type": "code",
      "source": [
        "import numpy as np\n",
        "\n",
        "# Paso 1: Generar una matriz rectangular aleatoria con dimensiones 3x5\n",
        "rows = 3\n",
        "cols = 5\n",
        "A = np.random.rand(rows, cols)\n",
        "\n",
        "# Paso 2: Imprimir la matriz generada\n",
        "print(\"Matriz A:\")\n",
        "print(A)\n",
        "\n",
        "# Paso 3: Calcular el rango de la matriz A\n",
        "rank_A = np.linalg.matrix_rank(A)\n",
        "print(\"Rango de A:\", rank_A)\n",
        "\n",
        "# Paso 4: Calcular la traza de la matriz A\n",
        "trace_A = np.trace(A)\n",
        "print(\"Traza de A:\", trace_A)\n",
        "\n",
        "# Paso 5: Calcular el determinante de la matriz A usando SVD\n",
        "U, s, V = np.linalg.svd(A, full_matrices=False)\n",
        "det_A = np.prod(s)\n",
        "print(\"Determinante de A:\", det_A)\n",
        "\n",
        "# Paso 6: Intentar invertir la matriz A\n",
        "try:\n",
        "    inv_A = np.linalg.inv(A)\n",
        "    print(\"La matriz A es invertible.\")\n",
        "except np.linalg.LinAlgError:\n",
        "    print(\"La matriz A no es invertible.\")\n",
        "\n",
        "# Paso 7: Calcular los eigenvalores y eigenvectores de A'A y AA'\n",
        "eigenvalues_A_transpose_A, eigenvectors_A_transpose_A = np.linalg.eig(A.T @ A)\n",
        "eigenvalues_AA_transpose, eigenvectors_AA_transpose = np.linalg.eig(A @ A.T)\n",
        "\n",
        "print(\"Eigenvalores de A'A:\", eigenvalues_A_transpose_A)\n",
        "print(\"Eigenvectores de A'A:\", eigenvectors_A_transpose_A)\n",
        "print(\"Eigenvalores de AA':\", eigenvalues_AA_transpose)\n",
        "print(\"Eigenvectores de AA':\", eigenvectors_AA_transpose)\n"
      ],
      "metadata": {
        "colab": {
          "base_uri": "https://localhost:8080/"
        },
        "id": "tP8DrEXRc8vO",
        "outputId": "5c7a58b5-0cd8-4751-cd53-c509f37997bb"
      },
      "execution_count": null,
      "outputs": [
        {
          "output_type": "stream",
          "name": "stdout",
          "text": [
            "Matriz A:\n",
            "[[0.60874254 0.2603815  0.52741226 0.56569879 0.38584922]\n",
            " [0.55886427 0.2327194  0.84194518 0.56351059 0.60368129]\n",
            " [0.78352735 0.71991008 0.55607433 0.00288054 0.39320619]]\n",
            "Rango de A: 3\n",
            "Traza de A: 1.3975362700956488\n",
            "Determinante de A: 0.27138797750145105\n",
            "La matriz A no es invertible.\n",
            "Eigenvalores de A'A: [ 4.08487762e+00  4.09920250e-01  4.39848166e-02 -3.36249921e-17\n",
            "  1.53129003e-16]\n",
            "Eigenvectores de A'A: [[-0.55354117 -0.29240489 -0.47978286  0.32549229 -0.49998395]\n",
            " [-0.34299688 -0.62297207 -0.1135033  -0.37448248  0.55935626]\n",
            " [-0.55739901  0.17426072  0.57732885 -0.46663215 -0.35716324]\n",
            " [-0.32429725  0.69111163 -0.52609444 -0.21930651  0.28945291]\n",
            " [-0.40010366  0.135658    0.38319895  0.69855331  0.4751716 ]]\n",
            "Eigenvalores de AA': [4.08487762 0.04398482 0.40992025]\n",
            "Eigenvectores de AA': [[ 0.52351849  0.79571631 -0.30457173]\n",
            " [ 0.63467951 -0.60269984 -0.48366809]\n",
            " [ 0.56842792 -0.05990375  0.82054935]]\n"
          ]
        }
      ]
    },
    {
      "cell_type": "markdown",
      "source": [
        "Los autovalores y autovectores de A'A y AA' están relacionados en el sentido de que comparten los mismos autovalores no negativos, pero difieren en las dimensiones de los autovectores y su interpretación geométrica en el espacio de columnas y filas de la matriz A. "
      ],
      "metadata": {
        "id": "zLuS9SdedSlY"
      }
    }
  ]
}